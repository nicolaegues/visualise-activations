{
 "cells": [
  {
   "cell_type": "code",
   "execution_count": 1,
   "id": "15f538e6",
   "metadata": {},
   "outputs": [],
   "source": [
    "\n",
    "import torch\n",
    "from acoustic_autoencoder import recon_model\n",
    "import numpy as np\n",
    "import matplotlib.pyplot as plt\n",
    "import ipywidgets as widgets\n",
    "import os\n",
    "#%matplotlib ipympl\n",
    "%matplotlib inline\n",
    "\n"
   ]
  },
  {
   "cell_type": "code",
   "execution_count": 2,
   "id": "8eaecba2",
   "metadata": {},
   "outputs": [
    {
     "data": {
      "text/plain": [
       "<torch.utils.hooks.RemovableHandle at 0x1ecab3df710>"
      ]
     },
     "execution_count": 2,
     "metadata": {},
     "output_type": "execute_result"
    }
   ],
   "source": [
    "model = recon_model()\n",
    "model.load_state_dict(torch.load(\"final_model.pth\"))\n",
    "model.eval()\n",
    "\n",
    "\n",
    "activations = {}\n",
    "def get_activation(name):\n",
    "    def hook(model, input, output):\n",
    "        activations[name] = output.detach()\n",
    "    return hook\n",
    "\n",
    "model.inc.conv.register_forward_hook(get_activation('In Conv Block'))\n",
    "model.down1.double_conv.register_forward_hook(get_activation('Down1'))\n",
    "model.down2.double_conv.register_forward_hook(get_activation('Down2'))\n",
    "model.spec_block.register_forward_hook(get_activation('Fourier Block'))\n",
    "model.up2.deconv.register_forward_hook(get_activation('Up1'))\n",
    "model.up3.deconv.register_forward_hook(get_activation('Up2'))\n",
    "model.outc.out.register_forward_hook(get_activation('Out Conv'))\n",
    "\n",
    "\n"
   ]
  },
  {
   "cell_type": "code",
   "execution_count": null,
   "id": "8afad05e",
   "metadata": {},
   "outputs": [],
   "source": [
    "def show_activations_widget(input_img, activations_dict, base_title=\"\"):\n",
    "    \"\"\"\n",
    "    Visualize arbitrary channel from any layer in activations_dict.\n",
    "    \"\"\"\n",
    "\n",
    "    layer_names = list(activations_dict.keys())\n",
    "    layer_names.insert(0, \"Input\")\n",
    "    layer_names.append(\"After Scaling to [-π, π]\")\n",
    "\n",
    "    layer_dropdown = widgets.Dropdown(\n",
    "        options=layer_names,\n",
    "        value=layer_names[0],\n",
    "        description='Layer:'\n",
    "    )\n",
    "\n",
    "    channel_slider = widgets.IntSlider(\n",
    "        value=0, min=0, max=0,\n",
    "        description='Channel:'\n",
    "    )\n",
    "\n",
    "    def update_channel_range(*args):\n",
    "        layer = layer_dropdown.value\n",
    "\n",
    "        if layer not in [\"Input\", \"After Scaling to [-π, π]\"]:\n",
    "            max_channels = activations_dict[layer].shape[1]\n",
    "            channel_slider.max = max(0, max_channels - 1) \n",
    "            channel_slider.value = 0\n",
    "       \n",
    "        else: \n",
    "            channel_slider.max = 0\n",
    "            channel_slider.value = 0\n",
    "\n",
    "    \n",
    "    layer_dropdown.observe(update_channel_range, names='value')\n",
    "\n",
    "    def show(layer, channel):\n",
    "        \n",
    "        if layer not in [\"Input\", \"After Scaling to [-π, π]\"]:\n",
    "            tensor = activations_dict[layer][0, channel]  # ([B, C, H, W] → one image)\n",
    "        \n",
    "        elif layer == \"Input\": \n",
    "            tensor = input_img[0][0]\n",
    "        elif layer == \"After Scaling to [-π, π]\": \n",
    "            tensor = torch.tanh(activations_dict['Out Conv'][0, channel] )*np.pi\n",
    "\n",
    "        img = tensor.detach().numpy()\n",
    "\n",
    "\n",
    "        fig, ax = plt.subplots(figsize=(5, 5))\n",
    "        pos1 = ax.imshow(img, cmap='viridis')\n",
    "        ax.set_title(f\"{base_title}Layer: {layer} | Channel: {channel+1}\")\n",
    "        ax.set_axis_off()\n",
    "        fig.colorbar(pos1, shrink =0.8)\n",
    "\n",
    "        plt.show()\n",
    "\n",
    "    out = widgets.interactive_output(show, {'layer': layer_dropdown, 'channel': channel_slider})\n",
    "    display(widgets.VBox([layer_dropdown, channel_slider]), out)\n"
   ]
  },
  {
   "cell_type": "code",
   "execution_count": 4,
   "id": "4be0acfb",
   "metadata": {},
   "outputs": [
    {
     "data": {
      "application/vnd.jupyter.widget-view+json": {
       "model_id": "d64afa9f499a47678f4a562283816d44",
       "version_major": 2,
       "version_minor": 0
      },
      "text/plain": [
       "VBox(children=(Dropdown(description='Layer:', options=('Input', 'In Conv Block', 'Down1', 'Down2', 'Fourier Bl…"
      ]
     },
     "metadata": {},
     "output_type": "display_data"
    },
    {
     "data": {
      "application/vnd.jupyter.widget-view+json": {
       "model_id": "ccd922c1d4e84b47946b24a2d79c5bab",
       "version_major": 2,
       "version_minor": 0
      },
      "text/plain": [
       "Output()"
      ]
     },
     "metadata": {},
     "output_type": "display_data"
    }
   ],
   "source": [
    "img = np.load(\"trap.npy\")\n",
    "img = img[:, np.newaxis ]\n",
    "img = torch.Tensor(img)\n",
    "\n",
    "_ = model(img)\n",
    "show_activations_widget(img, activations, base_title=\"Model Activations (Summarized version)\\n\")\n"
   ]
  },
  {
   "cell_type": "code",
   "execution_count": 5,
   "id": "6b8c6cc0",
   "metadata": {},
   "outputs": [
    {
     "data": {
      "application/vnd.jupyter.widget-view+json": {
       "model_id": "aa73a1b17f404576976b77f0c20cef17",
       "version_major": 2,
       "version_minor": 0
      },
      "text/plain": [
       "VBox(children=(Dropdown(description='Layer:', options=('Input', 'In Block - Convolution', 'In Block - Batch No…"
      ]
     },
     "metadata": {},
     "output_type": "display_data"
    },
    {
     "data": {
      "application/vnd.jupyter.widget-view+json": {
       "model_id": "c24c19be08c34c78975dcbcd58523837",
       "version_major": 2,
       "version_minor": 0
      },
      "text/plain": [
       "Output()"
      ]
     },
     "metadata": {},
     "output_type": "display_data"
    }
   ],
   "source": [
    "\n",
    "model = recon_model()\n",
    "model.load_state_dict(torch.load(\"final_model.pth\"))\n",
    "model.eval()\n",
    "\n",
    "activations = {}\n",
    "def get_activation(name):\n",
    "    def hook(model, input, output):\n",
    "        activations[name] = output.detach()\n",
    "    return hook\n",
    "\n",
    "model.inc.conv[0].register_forward_hook(get_activation('In Block - Convolution'))\n",
    "model.inc.conv[1].register_forward_hook(get_activation('In Block - Batch Normalisation'))\n",
    "model.inc.conv[2].register_forward_hook(get_activation('In Block - ReLU activation function'))\n",
    "\n",
    "\n",
    "model.down1.double_conv[0].register_forward_hook(get_activation('Down1 - Conv_1'))\n",
    "model.down1.double_conv[1].register_forward_hook(get_activation('Down1 - Batchnorm_1'))\n",
    "model.down1.double_conv[2].register_forward_hook(get_activation('Down1 - ReLU_1'))\n",
    "model.down1.double_conv[3].register_forward_hook(get_activation('Down1 - Conv_2'))\n",
    "model.down1.double_conv[4].register_forward_hook(get_activation('Down1 - Batchnorm_2'))\n",
    "model.down1.double_conv[5].register_forward_hook(get_activation('Down1 - ReLU_2'))\n",
    "\n",
    "model.down2.double_conv[0].register_forward_hook(get_activation('Down2 - Conv_1'))\n",
    "model.down2.double_conv[1].register_forward_hook(get_activation('Down2 - Batchnorm_1'))\n",
    "model.down2.double_conv[2].register_forward_hook(get_activation('Down2 - ReLU_1'))\n",
    "model.down2.double_conv[3].register_forward_hook(get_activation('Down2 - Conv_2'))\n",
    "model.down2.double_conv[4].register_forward_hook(get_activation('Down2 - Batchnorm_2'))\n",
    "model.down2.double_conv[5].register_forward_hook(get_activation('Down2 - ReLU_2'))\n",
    "\n",
    "model.spec_block.spec_conv.register_forward_hook(get_activation('Fourier Block - Spectral Conv'))\n",
    "model.spec_block.conv.register_forward_hook(get_activation('Fourier Block - Conv'))\n",
    "model.spec_block.prelu.register_forward_hook(get_activation('Fourier Block - PreLU'))\n",
    "\n",
    "model.up2.deconv[0].register_forward_hook(get_activation('Up1 - Conv_1'))\n",
    "model.up2.deconv[1].register_forward_hook(get_activation('Up1 - Batchnorm_1'))\n",
    "model.up2.deconv[2].register_forward_hook(get_activation('Up1 - ReLU_1'))\n",
    "model.up2.deconv[3].register_forward_hook(get_activation('Up1 - Conv_2'))\n",
    "model.up2.deconv[4].register_forward_hook(get_activation('Up1 - Batchnorm_2'))\n",
    "model.up2.deconv[5].register_forward_hook(get_activation('Up1 - ReLU_2'))\n",
    "\n",
    "model.up3.deconv[0].register_forward_hook(get_activation('Up2 - Conv_1'))\n",
    "model.up3.deconv[1].register_forward_hook(get_activation('Up2 - Batchnorm_1'))\n",
    "model.up3.deconv[2].register_forward_hook(get_activation('Up2 - ReLU_1'))\n",
    "model.up3.deconv[3].register_forward_hook(get_activation('Up2 - Conv_2'))\n",
    "model.up3.deconv[4].register_forward_hook(get_activation('Up2 - Batchnorm_2'))\n",
    "model.up3.deconv[5].register_forward_hook(get_activation('Up2 - ReLU_2'))\n",
    "\n",
    "model.outc.out.register_forward_hook(get_activation('Out Convolution'))\n",
    "\n",
    "_ = model(img)\n",
    "show_activations_widget(img, activations, base_title=\"Model Activations (Detailed version)\\n\")"
   ]
  },
  {
   "cell_type": "code",
   "execution_count": 6,
   "id": "62134080",
   "metadata": {},
   "outputs": [],
   "source": [
    "# import os\n",
    "# from PIL import Image\n",
    "# import re\n",
    "\n",
    "\n",
    "# figs_dir = \"progression_arrays/\"\n",
    "\n",
    "# def plot_3_ims(path, og_diffr, pred_diffr, pred_phase):\n",
    "\n",
    "#     match = re.search(r\"epoch_(\\d+)_batch(\\d+)\", path)\n",
    "#     epoch = int(match.group(1))\n",
    "#     batch = int(match.group(2))\n",
    "\n",
    "#     fig, axes = plt.subplots(1, 3, figsize = (12, 4))\n",
    "#     im1 = axes[0].imshow(og_diffr)\n",
    "#     axes[0].set_title(\"Original Acoustic Field Magnitude\")\n",
    "#     im2 = axes[1].imshow(pred_diffr)\n",
    "#     axes[1].set_title(\"Predicted Acoustic Field Magnitude\")\n",
    "#     im3 = axes[2].imshow(pred_phase, cmap = \"twilight\")\n",
    "#     axes[2].set_title(\"Predicted Phases\")\n",
    "\n",
    "#     for ax in axes: \n",
    "#         ax.set_axis_off()\n",
    "\n",
    "#     fig.colorbar(im1, ax = axes[0], shrink = 0.7)\n",
    "#     fig.colorbar(im2, ax = axes[1], shrink = 0.7)\n",
    "#     fig.colorbar(im3, ax = axes[2], shrink = 0.7)\n",
    "\n",
    "#     fig.suptitle(f\"1st prediction of Epoch {epoch} Batch {batch}\")\n",
    "#     plt.show()\n",
    "\n",
    "\n",
    "# def natural_sort_key(s):\n",
    "#     return [int(text) if text.isdigit() else text.lower() for text in re.split(r'(\\d+)', s)]\n",
    "\n",
    "# files = sorted(os.listdir(figs_dir), key=natural_sort_key)\n",
    "\n",
    "\n",
    "\n",
    "# def load_image(idx):\n",
    "\n",
    "#     path = os.path.join(figs_dir, files[idx])\n",
    "#     array_of_3 = np.load(path)\n",
    "\n",
    "#     og_diffr, pred_diffr, pred_phase = array_of_3[0], array_of_3[1], array_of_3[2]\n",
    "\n",
    "#     plot_3_ims(path, og_diffr, pred_diffr, pred_phase)\n",
    "    \n",
    "\n",
    "# slider = widgets.IntSlider(0, 0, len(files)-1, description='Idx:')\n",
    "# out = widgets.interactive_output(load_image, {'idx': slider})\n",
    "# display(slider, out)"
   ]
  }
 ],
 "metadata": {
  "kernelspec": {
   "display_name": "Python 3",
   "language": "python",
   "name": "python3"
  },
  "language_info": {
   "codemirror_mode": {
    "name": "ipython",
    "version": 3
   },
   "file_extension": ".py",
   "mimetype": "text/x-python",
   "name": "python",
   "nbconvert_exporter": "python",
   "pygments_lexer": "ipython3",
   "version": "3.11.4"
  }
 },
 "nbformat": 4,
 "nbformat_minor": 5
}
