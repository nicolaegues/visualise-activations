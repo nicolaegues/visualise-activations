{
 "cells": [
  {
   "cell_type": "code",
   "execution_count": 9,
   "id": "15f538e6",
   "metadata": {},
   "outputs": [],
   "source": [
    "\n",
    "import torch\n",
    "from acoustic_autoencoder import recon_model\n",
    "import numpy as np\n",
    "import matplotlib.pyplot as plt\n",
    "import ipywidgets as widgets\n",
    "import os\n",
    "#%matplotlib ipympl\n",
    "%matplotlib inline\n",
    "\n"
   ]
  },
  {
   "cell_type": "code",
   "execution_count": null,
   "id": "8eaecba2",
   "metadata": {},
   "outputs": [
    {
     "name": "stdout",
     "output_type": "stream",
     "text": [
      "c:\\Users\\nicol\\OneDrive - University of Bristol\\MSc_project-DESKTOP-M3M0RRL\\visualisations_app/final_model.pth\n"
     ]
    }
   ],
   "source": [
    "\n",
    "#dir = os.getcwd() \n",
    "#exp = \"KEEP_exp_Mon-30-Jun-2025-at-12-29-22AM\"\n",
    "\n",
    "\n",
    "\n",
    "model = recon_model()\n",
    "#model.load_state_dict(torch.load(f\"{dir}experiments/{exp}/final_model.pth\"))\n",
    "model.load_state_dict(torch.load(\"final_model.pth\"))\n",
    "\n",
    "model.eval()\n",
    "\n",
    "\n",
    "activations = {}\n",
    "def get_activation(name):\n",
    "    def hook(model, input, output):\n",
    "        activations[name] = output.detach()\n",
    "    return hook\n",
    "\n",
    "model.inc.conv.register_forward_hook(get_activation('inc'))\n",
    "model.down1.double_conv.register_forward_hook(get_activation('down1'))\n",
    "model.down2.double_conv.register_forward_hook(get_activation('down2'))\n",
    "model.spec_block.register_forward_hook(get_activation('spec_block'))\n",
    "model.up2.deconv.register_forward_hook(get_activation('up2'))\n",
    "model.up3.deconv.register_forward_hook(get_activation('up3'))\n",
    "model.outc.out.register_forward_hook(get_activation('outc'))\n",
    "\n",
    "\n",
    "img = np.load(\"trap.npy\")\n",
    "\n",
    "img = img[:, np.newaxis ]\n",
    "img = torch.Tensor(img)\n",
    "\n",
    "pred_diffr, pred_amp = model(img)"
   ]
  },
  {
   "cell_type": "code",
   "execution_count": 11,
   "id": "8afad05e",
   "metadata": {},
   "outputs": [],
   "source": [
    "\n",
    "#add input and sigmoid \n",
    "\n",
    "def show_activations_widget(input_img, activations_dict, base_title=\"\"):\n",
    "    \"\"\"\n",
    "    Visualize arbitrary channel from any layer in activations_dict.\n",
    "    \"\"\"\n",
    "\n",
    "    layer_names = list(activations_dict.keys())\n",
    "    layer_names.insert(0, \"Input\")\n",
    "    layer_names.append(\"After Sigmoid\")\n",
    "\n",
    "    layer_dropdown = widgets.Dropdown(\n",
    "        options=layer_names,\n",
    "        value=layer_names[0],\n",
    "        description='Layer:'\n",
    "    )\n",
    "\n",
    "    channel_slider = widgets.IntSlider(\n",
    "        value=0, min=0, max=0,\n",
    "        description='Channel:'\n",
    "    )\n",
    "\n",
    "    def update_channel_range(*args):\n",
    "        layer = layer_dropdown.value\n",
    "\n",
    "        if layer not in [\"Input\", \"After Sigmoid\"]:\n",
    "            max_channels = activations_dict[layer].shape[1]\n",
    "            channel_slider.max = max(0, max_channels - 1) \n",
    "            channel_slider.value = 0\n",
    "       \n",
    "        else: \n",
    "            channel_slider.max = 0\n",
    "            channel_slider.value = 0\n",
    "\n",
    "    \n",
    "    layer_dropdown.observe(update_channel_range, names='value')\n",
    "\n",
    "    def show(layer, channel):\n",
    "        \n",
    "        if layer not in [\"Input\", \"After Sigmoid\"]:\n",
    "            tensor = activations_dict[layer][0, channel]  # ([B, C, H, W] → one image)\n",
    "        \n",
    "        elif layer == \"Input\": \n",
    "            tensor = input_img[0][0]\n",
    "        elif layer == \"After Sigmoid\": \n",
    "            tensor = torch.sigmoid(activations_dict[\"outc\"][0, channel] )\n",
    "\n",
    "        img = tensor.detach().numpy()\n",
    "\n",
    "\n",
    "        fig, ax = plt.subplots(figsize=(5, 5))\n",
    "        ax.imshow(img, cmap='viridis')\n",
    "        ax.set_title(f\"{base_title}Layer: {layer} | Channel: {channel+1}\")\n",
    "        ax.set_axis_off()\n",
    "        plt.show()\n",
    "\n",
    "    out = widgets.interactive_output(show, {'layer': layer_dropdown, 'channel': channel_slider})\n",
    "    display(widgets.VBox([layer_dropdown, channel_slider]), out)\n"
   ]
  },
  {
   "cell_type": "code",
   "execution_count": 12,
   "id": "4be0acfb",
   "metadata": {},
   "outputs": [
    {
     "data": {
      "application/vnd.jupyter.widget-view+json": {
       "model_id": "0aca106aca2745df876681b933e44234",
       "version_major": 2,
       "version_minor": 0
      },
      "text/plain": [
       "VBox(children=(Dropdown(description='Layer:', options=('Input', 'inc', 'down1', 'down2', 'spec_block', 'up2', …"
      ]
     },
     "metadata": {},
     "output_type": "display_data"
    },
    {
     "data": {
      "application/vnd.jupyter.widget-view+json": {
       "model_id": "eb5abea34f234eef9fccd56094e77be0",
       "version_major": 2,
       "version_minor": 0
      },
      "text/plain": [
       "Output()"
      ]
     },
     "metadata": {},
     "output_type": "display_data"
    }
   ],
   "source": [
    "show_activations_widget(img, activations, base_title=\"Model Activations - \")\n"
   ]
  }
 ],
 "metadata": {
  "kernelspec": {
   "display_name": "Python 3",
   "language": "python",
   "name": "python3"
  },
  "language_info": {
   "codemirror_mode": {
    "name": "ipython",
    "version": 3
   },
   "file_extension": ".py",
   "mimetype": "text/x-python",
   "name": "python",
   "nbconvert_exporter": "python",
   "pygments_lexer": "ipython3",
   "version": "3.11.4"
  }
 },
 "nbformat": 4,
 "nbformat_minor": 5
}
